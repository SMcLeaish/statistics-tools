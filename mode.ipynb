{
 "cells": [
  {
   "cell_type": "code",
   "execution_count": 1,
   "metadata": {},
   "outputs": [],
   "source": [
    "a = [3, 3, 3, 4, 5, 6, 7, 4, 4, 6, 3]"
   ]
  },
  {
   "cell_type": "code",
   "execution_count": 2,
   "metadata": {},
   "outputs": [],
   "source": [
    "def mode(lst):\n",
    "    \"\"\" A function which takes in a sequence (list, tuple, np.array) and returns the\n",
    "    mode. If there is not a mode, the function returns none.\n",
    "\n",
    "    Parameters\n",
    "    ----------\n",
    "    lst : list\n",
    "        A list of items which are assumed to be a primitive data type (int, float, string)\n",
    "\n",
    "    Returns\n",
    "    -------\n",
    "    modes : list\n",
    "        Returns the mode(s) of the sequence in a list. If there is no mode, returns None\n",
    "    \"\"\"\n",
    "    # Declare a dictionary to use as a counter\n",
    "    dict_counter = {}\n",
    "\n",
    "    # Iterate through the list of objects\n",
    "    for item in lst:\n",
    "        # If the dictionary key already exists (item has already been encountered)\n",
    "        if item in dict_counter.keys():\n",
    "            dict_counter[item] += 1\n",
    "        # If the dictionary key doesn't exist (1st time item's encountered)\n",
    "        else:\n",
    "            dict_counter[item] = 1\n",
    "\n",
    "    # Find the maximum value from the dictionary counter\n",
    "    # (realize that there may be more than one key that has this value)\n",
    "    max_freq = max(list(dict_counter.values()))\n",
    "\n",
    "    # Collect a list of all the keys (items) with a value equal to max_freq\n",
    "    modes = [item for item, freq in dict_counter.items() if freq == max_freq]\n",
    "\n",
    "    # Return the mode(s), if every item has the same freq (no mode) return None\n",
    "    if len(modes) == len(lst):\n",
    "        return None\n",
    "    else:\n",
    "        return modes\n",
    "\n"
   ]
  },
  {
   "cell_type": "code",
   "execution_count": 4,
   "metadata": {},
   "outputs": [
    {
     "name": "stdout",
     "output_type": "stream",
     "text": [
      "[3]\n"
     ]
    }
   ],
   "source": [
    "print(mode(a))"
   ]
  }
 ],
 "metadata": {
  "kernelspec": {
   "display_name": "Python 3",
   "language": "python",
   "name": "python3"
  },
  "language_info": {
   "codemirror_mode": {
    "name": "ipython",
    "version": 3
   },
   "file_extension": ".py",
   "mimetype": "text/x-python",
   "name": "python",
   "nbconvert_exporter": "python",
   "pygments_lexer": "ipython3",
   "version": "3.10.8"
  },
  "orig_nbformat": 4,
  "vscode": {
   "interpreter": {
    "hash": "949777d72b0d2535278d3dc13498b2535136f6dfe0678499012e853ee9abcab1"
   }
  }
 },
 "nbformat": 4,
 "nbformat_minor": 2
}
