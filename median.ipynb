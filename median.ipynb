{
 "cells": [
  {
   "cell_type": "code",
   "execution_count": 6,
   "metadata": {},
   "outputs": [],
   "source": [
    "a = [95, 84, 67, 83, 79, 79, 80, 90, 60, 77, 83, 94, 70, 94, 83]"
   ]
  },
  {
   "cell_type": "code",
   "execution_count": 7,
   "metadata": {},
   "outputs": [],
   "source": [
    "def median(lst):\n",
    "    \"\"\"\n",
    "    A function which takes in a list as a parameter, and returns the median.\n",
    "\n",
    "    Parameters\n",
    "    ----------\n",
    "    lst : list\n",
    "        A list containing numeric data\n",
    "\n",
    "    Returns\n",
    "    -------\n",
    "    mean : float\n",
    "        A float representing the median of the given list\n",
    "    \"\"\"\n",
    "    import numpy as np\n",
    "\n",
    "    length = len(lst)\n",
    "    sorted_lst = sorted(lst)\n",
    "\n",
    "    # Lists with an odd number of items in the list\n",
    "    if length % 2 != 0:\n",
    "        idx = (length / 2 + .5) - 1\n",
    "\n",
    "        return sorted_lst[int(idx)]\n",
    "\n",
    "    # Lists with an even number of items in the list\n",
    "    else:\n",
    "        idx1 = int(length / 2 - 1)\n",
    "        idx2 = int(idx1 + 1)\n",
    "\n",
    "        return np.mean([sorted_lst[idx1], sorted_lst[idx2]])\n"
   ]
  },
  {
   "cell_type": "code",
   "execution_count": 8,
   "metadata": {},
   "outputs": [
    {
     "name": "stdout",
     "output_type": "stream",
     "text": [
      "83\n"
     ]
    }
   ],
   "source": [
    "print(median(a))"
   ]
  }
 ],
 "metadata": {
  "kernelspec": {
   "display_name": "Python 3",
   "language": "python",
   "name": "python3"
  },
  "language_info": {
   "codemirror_mode": {
    "name": "ipython",
    "version": 3
   },
   "file_extension": ".py",
   "mimetype": "text/x-python",
   "name": "python",
   "nbconvert_exporter": "python",
   "pygments_lexer": "ipython3",
   "version": "3.10.8"
  },
  "orig_nbformat": 4,
  "vscode": {
   "interpreter": {
    "hash": "949777d72b0d2535278d3dc13498b2535136f6dfe0678499012e853ee9abcab1"
   }
  }
 },
 "nbformat": 4,
 "nbformat_minor": 2
}
