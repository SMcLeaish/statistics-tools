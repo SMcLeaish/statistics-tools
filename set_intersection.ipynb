{
 "cells": [
  {
   "cell_type": "code",
   "execution_count": 13,
   "metadata": {},
   "outputs": [
    {
     "name": "stdout",
     "output_type": "stream",
     "text": [
      "{'HHH', 'THH', 'HHT'}\n"
     ]
    }
   ],
   "source": [
    "# Declare two lists\n",
    "lst1 = ['HHH','HHT','HTH','THH']\n",
    "lst2 = ['HHH','HHT','THT','THH']\n",
    "\n",
    "# Use the set() function to parse the lists into sets, this will eliminate\n",
    "# duplicated objects in the list\n",
    "set1 = set(lst1)\n",
    "set2 = set(lst2)\n",
    "\n",
    "# Find the intersection and assign it to a new variable\n",
    "my_intersection = set1.intersection(set2)\n",
    "\n",
    "# Will print:\n",
    "# {5, 6, 7, 8, 9}\n",
    "print(my_intersection)"
   ]
  },
  {
   "cell_type": "markdown",
   "metadata": {},
   "source": [
    "**Intersection Challenge Q3**\n",
    "\n",
    "A class of 30 students are assigned numbers 1-30, all even numbered students take statistics, all students who have a number which is evenly divided by three take computer science, and all of the students with numbers greater than 20 take data science. How many students take all three courses?\n"
   ]
  },
  {
   "cell_type": "code",
   "execution_count": 10,
   "metadata": {},
   "outputs": [],
   "source": [
    "evens=[]\n",
    "div3=[]\n",
    "grtr20 = []\n",
    "lst1 = list(range(1,31))\n",
    "for i in lst1:\n",
    "    if i % 2 == 0:\n",
    "        evens.append(i)\n",
    "set1 = set(evens)\n",
    "for i in lst1:\n",
    "    if i % 3 == 0:\n",
    "        div3.append(i)\n",
    "set2= set(div3)\n",
    "for i in lst1:\n",
    "    if i > 20 and i < 31:\n",
    "        grtr20.append(i)\n",
    "set3= set(grtr20)"
   ]
  },
  {
   "cell_type": "code",
   "execution_count": 11,
   "metadata": {},
   "outputs": [],
   "source": [
    "set_lst = [set1, set2, set3]"
   ]
  },
  {
   "cell_type": "code",
   "execution_count": 12,
   "metadata": {},
   "outputs": [
    {
     "data": {
      "text/plain": [
       "{24, 30}"
      ]
     },
     "execution_count": 12,
     "metadata": {},
     "output_type": "execute_result"
    }
   ],
   "source": [
    "set.intersection(*set_lst)"
   ]
  }
 ],
 "metadata": {
  "kernelspec": {
   "display_name": "Python 3.10.8 64-bit",
   "language": "python",
   "name": "python3"
  },
  "language_info": {
   "codemirror_mode": {
    "name": "ipython",
    "version": 3
   },
   "file_extension": ".py",
   "mimetype": "text/x-python",
   "name": "python",
   "nbconvert_exporter": "python",
   "pygments_lexer": "ipython3",
   "version": "3.10.8"
  },
  "orig_nbformat": 4,
  "vscode": {
   "interpreter": {
    "hash": "949777d72b0d2535278d3dc13498b2535136f6dfe0678499012e853ee9abcab1"
   }
  }
 },
 "nbformat": 4,
 "nbformat_minor": 2
}
