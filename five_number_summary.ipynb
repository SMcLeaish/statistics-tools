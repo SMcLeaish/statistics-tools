{
 "cells": [
  {
   "cell_type": "code",
   "execution_count": 1,
   "metadata": {},
   "outputs": [],
   "source": [
    "a = [12, 23, 42, 52, 13, 52, 12, 53, 65, 23, 53, 75]"
   ]
  },
  {
   "cell_type": "code",
   "execution_count": 2,
   "metadata": {},
   "outputs": [],
   "source": [
    "import numpy as np\n",
    "\n",
    "def five_summary(lst):\n",
    "    # Sort list, find median\n",
    "    sorted_lst = sorted(lst)\n",
    "    med = np.median(sorted_lst)\n",
    "\n",
    "    # If odd length, find index of median, partition data\n",
    "    if len(lst) % 2 != 0:\n",
    "        med_idx = (len(lst) / 2 + .5) - 1\n",
    "        low_subset = sorted_lst[:int(med_idx)]\n",
    "        high_subset = sorted_lst[int(med_idx + 1):]\n",
    "\n",
    "    # If even length, find index of median, partition data\n",
    "    else:\n",
    "        idx1 = int(len(lst) / 2 - 1)\n",
    "        idx2 = int(idx1 + 1)\n",
    "\n",
    "        low_subset = sorted_lst[0:(idx1 + 1)]\n",
    "        high_subset = sorted_lst[idx2:]\n",
    "\n",
    "    # Define Q1, Q3\n",
    "    q1 = np.median(low_subset)\n",
    "    q3 = np.median(high_subset)\n",
    "\n",
    "    # Return five number summary in a tuple\n",
    "    return min(sorted_lst), q1, med, q3, max(sorted_lst)"
   ]
  },
  {
   "cell_type": "code",
   "execution_count": 3,
   "metadata": {},
   "outputs": [
    {
     "name": "stdout",
     "output_type": "stream",
     "text": [
      "(12, 18.0, 47.0, 53.0, 75)\n"
     ]
    }
   ],
   "source": [
    "print(five_summary(a))"
   ]
  }
 ],
 "metadata": {
  "kernelspec": {
   "display_name": "Python 3",
   "language": "python",
   "name": "python3"
  },
  "language_info": {
   "codemirror_mode": {
    "name": "ipython",
    "version": 3
   },
   "file_extension": ".py",
   "mimetype": "text/x-python",
   "name": "python",
   "nbconvert_exporter": "python",
   "pygments_lexer": "ipython3",
   "version": "3.10.8"
  },
  "orig_nbformat": 4,
  "vscode": {
   "interpreter": {
    "hash": "949777d72b0d2535278d3dc13498b2535136f6dfe0678499012e853ee9abcab1"
   }
  }
 },
 "nbformat": 4,
 "nbformat_minor": 2
}
