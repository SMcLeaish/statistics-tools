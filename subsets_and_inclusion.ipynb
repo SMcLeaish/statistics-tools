{
 "cells": [
  {
   "cell_type": "code",
   "execution_count": null,
   "metadata": {},
   "outputs": [],
   "source": [
    "# Declare two sets\n",
    "set1 = {1, 2, 3, 4, 5, 6}\n",
    "set2 = {1, 2, 3}\n",
    "\n",
    "# Check if set2 is a subset of set1, returns True\n",
    "set2.issubset(set1)\n",
    "\n",
    "# Check if set2 is a superset of set1, returns False\n",
    "set2.issuperset(set1)\n",
    "\n",
    "# Check if set1 is a superset of set2, returns True\n",
    "set1.issuperset(set2)\n",
    "\n",
    "# Check if a set1 is a subset of itself, returns True\n",
    "set1.issuperset(set1)\n",
    "\n",
    "# Check if a set1 is a subset of itself, returns True\n",
    "set1.issubset(set1)"
   ]
  }
 ],
 "metadata": {
  "kernelspec": {
   "display_name": "Python 3.10.8 64-bit",
   "language": "python",
   "name": "python3"
  },
  "language_info": {
   "name": "python",
   "version": "3.10.8 (main, Oct 13 2022, 09:48:40) [Clang 14.0.0 (clang-1400.0.29.102)]"
  },
  "orig_nbformat": 4,
  "vscode": {
   "interpreter": {
    "hash": "949777d72b0d2535278d3dc13498b2535136f6dfe0678499012e853ee9abcab1"
   }
  }
 },
 "nbformat": 4,
 "nbformat_minor": 2
}
